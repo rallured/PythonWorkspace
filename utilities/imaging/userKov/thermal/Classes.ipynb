{
 "metadata": {
  "name": "",
  "signature": "sha256:d9ad95f30d89a7a56193a5692f6348bcae108191e1848329a6a2351ed1e67969"
 },
 "nbformat": 3,
 "nbformat_minor": 0,
 "worksheets": [
  {
   "cells": [
    {
     "cell_type": "code",
     "collapsed": false,
     "input": [
      "class Base(object):\n",
      "\n",
      "    name=\"\"\n",
      "    def __init__(self,**kwargs):\n",
      "        #quick prototype, replace with actual arguments.\n",
      "        for k, v in kwargs.items():\n",
      "            setattr(self, k, v)\n",
      "        self.__doc__= super(Base,self).__doc__\n",
      "\n",
      "a=Base()"
     ],
     "language": "python",
     "metadata": {},
     "outputs": [],
     "prompt_number": 19
    },
    {
     "cell_type": "code",
     "collapsed": false,
     "input": [
      "\n"
     ],
     "language": "python",
     "metadata": {},
     "outputs": [],
     "prompt_number": 20
    },
    {
     "cell_type": "code",
     "collapsed": false,
     "input": [],
     "language": "python",
     "metadata": {},
     "outputs": []
    }
   ],
   "metadata": {}
  }
 ]
}