{
 "metadata": {
  "name": "",
  "signature": "sha256:3ce9cbd571c517e0e94574765c870e52d08babbc5a637d082fe94b258bf0cda2"
 },
 "nbformat": 3,
 "nbformat_minor": 0,
 "worksheets": []
}